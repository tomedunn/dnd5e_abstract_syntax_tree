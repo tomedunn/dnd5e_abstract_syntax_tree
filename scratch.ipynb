{
 "cells": [
  {
   "cell_type": "code",
   "execution_count": 12,
   "metadata": {},
   "outputs": [
    {
     "name": "stdout",
     "output_type": "stream",
     "text": [
      "Die with denominator 720\n",
      "\n",
      "| Outcome | Quantity | Probability |\n",
      "|--------:|---------:|------------:|\n",
      "|       0 |      324 |  45.000000% |\n",
      "|       1 |       60 |   8.333333% |\n",
      "|       2 |       61 |   8.472222% |\n",
      "|       3 |       62 |   8.611111% |\n",
      "|       4 |       63 |   8.750000% |\n",
      "|       5 |       64 |   8.888889% |\n",
      "|       6 |       65 |   9.027778% |\n",
      "|       7 |        6 |   0.833333% |\n",
      "|       8 |        5 |   0.694444% |\n",
      "|       9 |        4 |   0.555556% |\n",
      "|      10 |        3 |   0.416667% |\n",
      "|      11 |        2 |   0.277778% |\n",
      "|      12 |        1 |   0.138889% |\n",
      "\n",
      "\n"
     ]
    }
   ],
   "source": [
    "from icepool import Die, d, map\n",
    "\n",
    "def attack_outcomes(armor_class, d20, bonus, results):\n",
    "    if d20 == 20:\n",
    "        return results['critical hit']\n",
    "    elif d20 == 1:\n",
    "        return results['critical miss']\n",
    "    elif d20 + bonus >= armor_class:\n",
    "        return results['hit']\n",
    "    else:\n",
    "        return results['miss']\n",
    "\n",
    "results = {\n",
    "    'critical miss': 0,\n",
    "    'miss': 0,\n",
    "    'hit': 1 @ d(6),\n",
    "    'critical hit': 2 @ d(6),\n",
    "}\n",
    "damage = map(attack_outcomes, 15, d(20), 5, results)\n",
    "\n",
    "print(damage)"
   ]
  },
  {
   "cell_type": "code",
   "execution_count": null,
   "metadata": {},
   "outputs": [
    {
     "name": "stdout",
     "output_type": "stream",
     "text": [
      "Die with denominator 720\n",
      "\n",
      "| Outcome | Quantity | Probability |\n",
      "|--------:|---------:|------------:|\n",
      "|       0 |      324 |  45.000000% |\n",
      "|       1 |       54 |   7.500000% |\n",
      "|       2 |       56 |   7.777778% |\n",
      "|       3 |       58 |   8.055556% |\n",
      "|       4 |       60 |   8.333333% |\n",
      "|       5 |       62 |   8.611111% |\n",
      "|       6 |       64 |   8.888889% |\n",
      "|       7 |       12 |   1.666667% |\n",
      "|       8 |       10 |   1.388889% |\n",
      "|       9 |        8 |   1.111111% |\n",
      "|      10 |        6 |   0.833333% |\n",
      "|      11 |        4 |   0.555556% |\n",
      "|      12 |        2 |   0.277778% |\n",
      "\n",
      "\n"
     ]
    }
   ],
   "source": [
    "from icepool import Die, d, map\n",
    "\n",
    "def attack_evaluator(variables, results):\n",
    "    def attack_outcomes(d20, variables):\n",
    "        if d20 in variables['critical_hit']:\n",
    "            return 'critical hit'\n",
    "        elif d20 in variables['critical_miss']:\n",
    "            return 'critical miss'\n",
    "        elif d20 + variables['attack_bonus'] >= variables['armor_class']:\n",
    "            return 'hit'\n",
    "        else:\n",
    "            return 'miss'\n",
    "    \n",
    "    def apply_results(outcome, results):\n",
    "        return results[outcome]\n",
    "    \n",
    "    outcomes = map(attack_outcomes, d(20), variables)\n",
    "    damage = map(apply_results, outcomes, results)\n",
    "\n",
    "    return damage\n",
    "\n",
    "damage = attack_evaluator(\n",
    "    variables={\n",
    "        'critical_hit': [19,20],\n",
    "        'critical_miss': [1],\n",
    "        'attack_bonus': 5,\n",
    "        'armor_class': 15,\n",
    "    }, \n",
    "    results={\n",
    "        'critical miss': 0,\n",
    "        'miss': 0,\n",
    "        'hit': 1 @ d(6),\n",
    "        'critical hit': 2 @ d(6),\n",
    "    })\n",
    "print(damage)"
   ]
  },
  {
   "cell_type": "code",
   "execution_count": 23,
   "metadata": {},
   "outputs": [
    {
     "name": "stdout",
     "output_type": "stream",
     "text": [
      "Die with denominator 120\n",
      "\n",
      "| Outcome | Quantity | Probability |\n",
      "|--------:|---------:|------------:|\n",
      "|       0 |       54 |  45.000000% |\n",
      "|       1 |       11 |   9.166667% |\n",
      "|       2 |       11 |   9.166667% |\n",
      "|       3 |       11 |   9.166667% |\n",
      "|       4 |       11 |   9.166667% |\n",
      "|       5 |       11 |   9.166667% |\n",
      "|       6 |       11 |   9.166667% |\n",
      "\n",
      "\n"
     ]
    }
   ],
   "source": [
    "from icepool import Die, d, map\n",
    "\n",
    "def save_evaluator(variables, results):\n",
    "    def save_outcomes(d20, variables):\n",
    "        if d20 + variables['save_bonus'] >= variables['save_dc']:\n",
    "            return 'failure'\n",
    "        else:\n",
    "            return 'success'\n",
    "    \n",
    "    def apply_results(outcome, results):\n",
    "        return results[outcome]\n",
    "    \n",
    "    outcomes = map(save_outcomes, d(20), variables)\n",
    "    damage = map(apply_results, outcomes, results)\n",
    "\n",
    "    return damage\n",
    "\n",
    "damage = save_evaluator(\n",
    "    variables={\n",
    "        'save_bonus': 5,\n",
    "        'save_dc': 15,\n",
    "    }, \n",
    "    results={\n",
    "        'success': 0,\n",
    "        'failure': 1 @ d(6),\n",
    "    })\n",
    "print(damage)"
   ]
  }
 ],
 "metadata": {
  "kernelspec": {
   "display_name": "thefinishedbook",
   "language": "python",
   "name": "python3"
  },
  "language_info": {
   "codemirror_mode": {
    "name": "ipython",
    "version": 3
   },
   "file_extension": ".py",
   "mimetype": "text/x-python",
   "name": "python",
   "nbconvert_exporter": "python",
   "pygments_lexer": "ipython3",
   "version": "3.10.5"
  }
 },
 "nbformat": 4,
 "nbformat_minor": 2
}

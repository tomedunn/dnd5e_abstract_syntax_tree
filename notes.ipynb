{
 "cells": [
  {
   "cell_type": "markdown",
   "metadata": {},
   "source": [
    "# D&D 5e Abstract Syntax Tree\n",
    "\n",
    "The goal of this library is to create an abstract syntax tree capable of representing the mechanics of 5th edition D&D."
   ]
  },
  {
   "cell_type": "markdown",
   "metadata": {},
   "source": [
    "## Nodes"
   ]
  },
  {
   "cell_type": "markdown",
   "metadata": {},
   "source": [
    "### Dice Roll\n",
    "\n",
    "These nodes are simple dice equations that can be evaluated for a variety of uses."
   ]
  },
  {
   "cell_type": "markdown",
   "metadata": {},
   "source": [
    "### D20 Test\n",
    "\n",
    "These nodes are used to select an outcome following a d20 roll. There are three subtypes: attacks, saves, and checks. In all cases, a d20 roll is made, modifiers are added to the roll, and one of several outcomes occurs depending on the roll.\n",
    "\n",
    " * **Attacks.** Miss, hit, or critical hit.\n",
    " * **Saves.** Success, failure.\n",
    " * **Checks.** Success, failure."
   ]
  },
  {
   "cell_type": "markdown",
   "metadata": {},
   "source": [
    "### Effects\n",
    "\n",
    "These nodes alter the target in some way. Effect nodes have the following subtypes:\n",
    "\n",
    "* Healing\n",
    "* Damage\n",
    "* Conditions\n",
    "* Forced Movement\n",
    "* Bonuses\n",
    "* Penalties\n"
   ]
  },
  {
   "cell_type": "markdown",
   "metadata": {},
   "source": [
    "### Durations\n",
    "\n",
    "These nodes are used to define how long an effect lasts, or, more precisely, when it ends. This should cover\n",
    "\n",
    "* lengths of time\n",
    "* concentration\n",
    "* conditional triggers\n",
    "* saves\n",
    "* actions"
   ]
  },
  {
   "cell_type": "markdown",
   "metadata": {
    "vscode": {
     "languageId": "plaintext"
    }
   },
   "source": [
    "### Target Selectors\n",
    "\n",
    "These nodes tell us how to pick targets using any of the following criteria\n",
    "\n",
    "* range\n",
    "* area\n",
    "* number\n",
    "* visibility\n"
   ]
  },
  {
   "cell_type": "markdown",
   "metadata": {},
   "source": [
    "### Control\n",
    "\n",
    "These nodes are used to determine how a tree is traversed. \n",
    "\n",
    "* if statement"
   ]
  },
  {
   "cell_type": "markdown",
   "metadata": {},
   "source": [
    "## Examples\n",
    "\n",
    "### Attack with damage\n",
    "\n",
    "> _**Fist.** Melee Attack Roll:_ +5, reach 5 ft. _Hit:_ 5 (1d4 + 3) Bludgeoning damage.\n",
    "\n",
    "An attack roll is made and damage is dealt on a hit or critical hit."
   ]
  },
  {
   "cell_type": "markdown",
   "metadata": {},
   "source": [
    "### Attack with damage and condition\n",
    "\n",
    "> _**Claw.** Melee Attack Roll:_ +5, reach 5 ft. *Hit:* 5 (1d4 + 3) Slashing damage, and the target has the Prone condition if it is Huge or smaller.\n",
    "\n",
    "An attack roll is made, on a hit damage is dealt and the target gains a condition."
   ]
  },
  {
   "cell_type": "markdown",
   "metadata": {
    "vscode": {
     "languageId": "plaintext"
    }
   },
   "source": [
    "### Attack with damage and condition if criteria is met\n",
    "\n",
    "> _**Bite.** Melee Attack Roll:_ +4, reach 5 ft. _Hit:_ 6 (1d8 + 2) Piercing damage. If the target is Medium or smaller, it has the Grappled condition (escape DC 12). While Grappled, the target has the Restrained condition.\n",
    "\n",
    "An attack roll is made, on a hit damage is dealt and if the target qualifies a condition as well."
   ]
  },
  {
   "cell_type": "markdown",
   "metadata": {},
   "source": [
    "### Save with damage and condition\n",
    "\n",
    "> _**Constrict.** Strength Saving Throw:_ DC 12, one Medium or smaller creature the snake can see within 5 feet. _Failure:_ 7 (3d4) Bludgeoning damage, and the target has the Grappled condition (escape DC 12).\n",
    "\n",
    "A saving throw is made, on a failure the target takes damage and gains a condition."
   ]
  }
 ],
 "metadata": {
  "language_info": {
   "name": "python"
  }
 },
 "nbformat": 4,
 "nbformat_minor": 2
}

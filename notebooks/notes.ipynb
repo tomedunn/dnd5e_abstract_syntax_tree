{
 "cells": [
  {
   "cell_type": "markdown",
   "metadata": {},
   "source": [
    "# D&D 5e Abstract Syntax Tree\n",
    "\n",
    "The goal of this library is to create an abstract syntax tree capable of representing the mechanics of 5th edition D&D."
   ]
  },
  {
   "cell_type": "markdown",
   "metadata": {},
   "source": [
    "## Nodes"
   ]
  },
  {
   "cell_type": "markdown",
   "metadata": {},
   "source": [
    "### Node types\n",
    "\n",
    "* **Roll.** Randomly determines an outcome or returns a distribution of outcomes based on their probabilities. \n",
    "* **Selection.** Converts an outcome to a value.\n",
    "* **Value.** Aren't interpreted. Return only their assigned value.\n",
    "* **Effect.** Anything that affects a creature or target.\n",
    "* **Control.** Relate values to one another. If statements.\n",
    "* **Target.** Used to determine one or more targets.\n",
    "* **Duration.** Specifies how long and effect lasts and under what circumstances it ends."
   ]
  },
  {
   "cell_type": "markdown",
   "metadata": {},
   "source": [
    "### Dice Roll\n",
    "\n",
    "These nodes are simple dice equations that can be evaluated for a variety of uses."
   ]
  },
  {
   "cell_type": "markdown",
   "metadata": {},
   "source": [
    "```python\n",
    "{\n",
    "    'node': 'Roll',\n",
    "    'equation': '1d20 + 5',\n",
    "}\n",
    "```"
   ]
  },
  {
   "cell_type": "markdown",
   "metadata": {},
   "source": [
    "### D20 Test\n",
    "\n",
    "These nodes are used to select an outcome following a d20 roll. There are three subtypes: attacks, saves, and checks. In all cases, a d20 roll is made, modifiers are added to the roll, and one of several outcomes occurs depending on the roll.\n",
    "\n",
    " * **Attacks.** Miss, hit, or critical hit.\n",
    " * **Saves.** Success, failure.\n",
    " * **Checks.** Success, failure."
   ]
  },
  {
   "cell_type": "markdown",
   "metadata": {},
   "source": [
    "Perhaps something to this effect.\n",
    "\n",
    "```python\n",
    "{\n",
    "    'node': 'D20Test',\n",
    "    'type': 'Attack',\n",
    "    'modifiers': ['+4'],\n",
    "    'results': [\n",
    "        ('Critical Miss', '{d20}=1', EffectNode()),\n",
    "        ('Critical Hit', '{d20}=20', EffectNode()),\n",
    "        ('Miss', '{roll}<{target_AC}', EffectNode()),\n",
    "        ('Hit', '{roll}>={target_AC}', EffectNode()),\n",
    "    ],\n",
    "}\n",
    "```\n",
    "\n",
    "```python\n",
    "{\n",
    "    'node': 'D20Test',\n",
    "    'type': 'Save',\n",
    "    'DC': '14',\n",
    "    'results': [\n",
    "        ('Success', '{roll}>={DC}', EffectNode()),\n",
    "        ('Failure', '{roll}<{DC}', EffectNode()),\n",
    "    ],\n",
    "}\n",
    "```\n",
    "\n",
    "```python\n",
    "{\n",
    "    'node': 'D20Test',\n",
    "    'type': 'Check',\n",
    "    'modifiers': ['+4'],\n",
    "    'results': [\n",
    "        ('Success', '{roll}>={DC}', EffectNode()),\n",
    "        ('Failure', '{roll}<{DC}', EffectNode()),\n",
    "    ],\n",
    "}\n",
    "```"
   ]
  },
  {
   "cell_type": "markdown",
   "metadata": {
    "vscode": {
     "languageId": "plaintext"
    }
   },
   "source": [
    "Alternatively, could have a variables parameter that can be used to associate different values and \n",
    "rolls to a name that can be referenced in equations in the results field. \n",
    "\n",
    "For example,\n",
    "\n",
    "```python\n",
    "{\n",
    "    'node': 'D20Test',\n",
    "    'type': 'Attack',\n",
    "    'variables': [\n",
    "        ('d20', RollNode('1d20')),\n",
    "        ('mod', NumberNode('4')),\n",
    "    ],\n",
    "    'results': [\n",
    "        ('Critical Miss', '{d20}=1', EffectNode()),\n",
    "        ('Critical Hit', '{d20}=20', EffectNode()),\n",
    "        ('Miss', '{d20}+{mod}<{target_AC}', EffectNode()),\n",
    "        ('Hit', '{d20}+{mod}>={target_AC}', EffectNode()),\n",
    "    ],\n",
    "}\n",
    "```"
   ]
  },
  {
   "cell_type": "markdown",
   "metadata": {},
   "source": [
    "Another alternative, instead of equations in the results list, a function could be used to determine the results. This function would need to be passed into the evaluator. This might cause issues with wanting to store the AST as a dictionary or json file.\n",
    "\n",
    "```python\n",
    "{\n",
    "    'node': 'D20Test',\n",
    "    'type': 'Attack',\n",
    "    'evaluator': 'attack_evaluator',\n",
    "    'variables': {\n",
    "        'critical_hit_range': [19,20],\n",
    "        'critical_miss_range': [1],\n",
    "        'attack_bonus': 4,\n",
    "    },\n",
    "    'results': {\n",
    "        'critical miss': EffectNode(),\n",
    "        'miss': EffectNode(),\n",
    "        'hit': EffectNode(),\n",
    "        'critical hit': EffectNode(),\n",
    "    }\n",
    "}\n",
    "```\n",
    "\n",
    "and for saving throws\n",
    "\n",
    "```python\n",
    "{\n",
    "    'node': 'D20Test',\n",
    "    'type': 'Save',\n",
    "    'evaluator': 'save_evaluator',\n",
    "    'variables': {\n",
    "        'save_dc': 12,\n",
    "    },\n",
    "    'results': {\n",
    "        'Success': EffectNode(),\n",
    "        'Failure': EffectNode(),\n",
    "    }\n",
    "}\n",
    "```"
   ]
  },
  {
   "cell_type": "markdown",
   "metadata": {},
   "source": [
    "What about having different types of roll nodes. Like an AttackRoll.\n",
    "\n",
    "```python\n",
    "{\n",
    "    'node': 'AttackRoll',\n",
    "    'critical_hit_range': [19,20],\n",
    "    'critical_miss_range': [1],\n",
    "    'attack_bonus': 5,\n",
    "    'armor_class': 'target.armor_class',\n",
    "}\n",
    "```\n",
    "\n",
    "```python\n",
    "{\n",
    "    'node': 'SaveRoll',\n",
    "    'save_dc': 13,\n",
    "    'save_bonus': 'target.save_bonus',\n",
    "}\n",
    "```\n",
    "\n",
    "and then a selection node\n",
    "\n",
    "```python\n",
    "{\n",
    "    'node': 'Selection',\n",
    "    'selector': AttackRollNode(),\n",
    "    'results': {\n",
    "        'critical miss': EffectNode(),\n",
    "        'miss': EffectNode(),\n",
    "        'hit': EffectNode(),\n",
    "        'critical hit': EffectNode(),\n",
    "    },\n",
    "}\n",
    "```"
   ]
  },
  {
   "cell_type": "markdown",
   "metadata": {},
   "source": [
    "### Effects\n",
    "\n",
    "These nodes alter the target in some way. Effect nodes have the following subtypes:\n",
    "\n",
    "* Healing\n",
    "* Damage\n",
    "* Conditions\n",
    "* Forced Movement\n",
    "* Bonuses\n",
    "* Penalties\n"
   ]
  },
  {
   "cell_type": "markdown",
   "metadata": {},
   "source": [
    "An effect node should could take this form,\n",
    "\n",
    "```python\n",
    "{\n",
    "    'node': 'Effect',\n",
    "    'timing': TimingNode(),  # when to evaluate the effect (start of a turn, now, etc.)\n",
    "    'duration': DurationNode(), # how long the effect lasts, or when it ends (instantaneous, permanent, 1 minute, etc.)\n",
    "    'results': [], # what the effect does (damage, healing, apply a condition)\n",
    "}\n",
    "```"
   ]
  },
  {
   "cell_type": "markdown",
   "metadata": {},
   "source": [
    "```python\n",
    "{\n",
    "    'node': 'Effect',\n",
    "    'type': 'Healing',\n",
    "    'timing': TimingNode(),\n",
    "    'duration': DurationNode(),\n",
    "    'results': RollNode(),\n",
    "}\n",
    "```"
   ]
  },
  {
   "cell_type": "markdown",
   "metadata": {},
   "source": [
    "```python\n",
    "{\n",
    "    'node': 'Effect',\n",
    "    'type': 'Damage',\n",
    "    'timing': TimingNode(),  \n",
    "    'duration': DurationNode(), \n",
    "    'results': (RollNode(), 'damage type'), \n",
    "}\n",
    "```"
   ]
  },
  {
   "cell_type": "markdown",
   "metadata": {
    "vscode": {
     "languageId": "plaintext"
    }
   },
   "source": [
    "```python\n",
    "{\n",
    "    'node': 'Effect',\n",
    "    'type': 'Condition',\n",
    "    'timing': TimingNode(),  \n",
    "    'duration': DurationNode(), \n",
    "    'results': 'condition name', \n",
    "}\n",
    "```"
   ]
  },
  {
   "cell_type": "markdown",
   "metadata": {},
   "source": [
    "### Durations\n",
    "\n",
    "These nodes are used to define how long an effect lasts, or, more precisely, when it ends. This should cover\n",
    "\n",
    "* lengths of time\n",
    "* concentration\n",
    "* conditional triggers\n",
    "* saves\n",
    "* actions"
   ]
  },
  {
   "cell_type": "markdown",
   "metadata": {},
   "source": [
    "```python\n",
    "{\n",
    "    'node': 'Duration',\n",
    "    'ends': [\n",
    "        '1 minute',\n",
    "        'caster.concentration != self',\n",
    "    ],\n",
    "}\n",
    "```"
   ]
  },
  {
   "cell_type": "markdown",
   "metadata": {
    "vscode": {
     "languageId": "plaintext"
    }
   },
   "source": [
    "### Target Selectors\n",
    "\n",
    "These nodes tell us how to pick targets using any of the following criteria\n",
    "\n",
    "* range\n",
    "* area\n",
    "* number\n",
    "* visibility"
   ]
  },
  {
   "cell_type": "markdown",
   "metadata": {},
   "source": [
    "Areas can take any of the following shapes:\n",
    " * **Cone.** length/width\n",
    " * **Cube.** edge length\n",
    " * **Cylinder.** radius/diameter, height\n",
    " * **Emanation.** radius/diameter\n",
    " * **Line.** length and width\n",
    " * **Sphere.** radius/diameter"
   ]
  },
  {
   "cell_type": "markdown",
   "metadata": {},
   "source": [
    "```python\n",
    "{\n",
    "    'node': 'Targeting',\n",
    "    'range': '60 feet',\n",
    "    'area': {\n",
    "        'shape': 'cylinder',\n",
    "        'radius': '20 feet',\n",
    "        'height': '40 feet',\n",
    "    },\n",
    "    'max_number': 2,\n",
    "    'min_number': 0,\n",
    "}\n",
    "```\n",
    "\n",
    "This would work in tandem with an array of targets, who would be selected based on their attributes.\n",
    "\n",
    "Instead of passing a single target dictionary to the evaluator, a dictionary of possible targets and parameters could be used.\n",
    "For example:\n",
    "\n",
    "```python\n",
    "targets = {\n",
    "    'maxtargets': 5,\n",
    "    'melee_maxtargets': 2,\n",
    "    'melee_target': {\n",
    "        'armor_class': 12,\n",
    "        'strength_save_bonus': 1,\n",
    "        'dexterity_save_bonus': 0,\n",
    "        'constitution_save_bonus': 2,\n",
    "        'intelligence_save_bonus': 1,\n",
    "        'wisdom_save_bonus': 2,\n",
    "        'charisma_save_bonus': 2,\n",
    "    },\n",
    "    'ranged_targetarea': 10**2,\n",
    "    'ranged_maxtargets': 4,\n",
    "    'ranged_target': {\n",
    "        'armor_class': 12,\n",
    "        'strength_save_bonus': 1,\n",
    "        'dexterity_save_bonus': 0,\n",
    "        'constitution_save_bonus': 2,\n",
    "        'intelligence_save_bonus': 1,\n",
    "        'wisdom_save_bonus': 2,\n",
    "        'charisma_save_bonus': 2,\n",
    "    },\n",
    "}\n",
    "```"
   ]
  },
  {
   "cell_type": "markdown",
   "metadata": {},
   "source": [
    "### Control\n",
    "\n",
    "These nodes are used to determine how a tree is traversed. \n",
    "\n",
    "* if statement\n",
    "* and\n",
    "* or"
   ]
  },
  {
   "cell_type": "markdown",
   "metadata": {},
   "source": [
    "```python\n",
    "{\n",
    "    'node': 'Control',\n",
    "    'type': 'If',\n",
    "    'condition': 'expression to evaluate',\n",
    "    'results': {\n",
    "        'true': AttackNode(),\n",
    "        'false': EmptyNode(),\n",
    "    }\n",
    "}\n",
    "```\n",
    "\n",
    "Alternatively, treat this like a d20test node\n",
    "\n",
    "```python\n",
    "{\n",
    "    'node': 'Control',\n",
    "    'type': 'If',\n",
    "    'variables': {\n",
    "        'answer': 'target.form',\n",
    "    },\n",
    "    'results': {\n",
    "        'wolf': AttackNode(),\n",
    "        'humanoid': EmptyNode(),\n",
    "    }\n",
    "}\n",
    "```"
   ]
  },
  {
   "cell_type": "markdown",
   "metadata": {},
   "source": [
    "```python\n",
    "{\n",
    "    'node': 'Control',\n",
    "    'type': 'And',\n",
    "    'results': [\n",
    "        Node(),\n",
    "        Node(),\n",
    "    ]\n",
    "}\n",
    "```"
   ]
  },
  {
   "cell_type": "markdown",
   "metadata": {
    "vscode": {
     "languageId": "plaintext"
    }
   },
   "source": [
    "```python\n",
    "{\n",
    "    'node': 'Control',\n",
    "    'type': 'Or',\n",
    "    'results': [\n",
    "        Node(),\n",
    "        Node(),\n",
    "    ]\n",
    "}\n",
    "```"
   ]
  },
  {
   "cell_type": "markdown",
   "metadata": {},
   "source": [
    "## Examples\n",
    "\n",
    "### Attack with damage\n",
    "\n",
    "> _**Fist.** Melee Attack Roll:_ +5, reach 5 ft. _Hit:_ 5 (1d4 + 3) Bludgeoning damage.\n",
    "\n",
    "An attack roll is made and damage is dealt on a hit or critical hit."
   ]
  },
  {
   "cell_type": "markdown",
   "metadata": {},
   "source": [
    "As a crude example (subject to change),\n",
    "\n",
    "```python\n",
    "{\n",
    "    'node': 'Attack',\n",
    "    'variables:' {\n",
    "        'd20': RollNode('d20'),\n",
    "        'mod': 5,\n",
    "    },\n",
    "    'results': {\n",
    "        'crit miss': DamageNode('0', 'Bludgeoning'),\n",
    "        'miss':      DamageNode('0', 'Bludgeoning'),\n",
    "        'hit':       DamageNode('1d4 + 3', 'Bludgeoning'),\n",
    "        'crit hit':  DamageNode('2d4 + 3', 'Bludgeoning'),\n",
    "    }\n",
    "}\n",
    "```"
   ]
  },
  {
   "cell_type": "markdown",
   "metadata": {},
   "source": [
    "### Attack with damage and condition\n",
    "\n",
    "> _**Claw.** Melee Attack Roll:_ +5, reach 5 ft. *Hit:* 5 (1d4 + 3) Slashing damage, and the target has the Prone condition.\n",
    "\n",
    "An attack roll is made, on a hit damage is dealt and the target gains a condition."
   ]
  },
  {
   "cell_type": "markdown",
   "metadata": {},
   "source": [
    "As a crude example (subject to change),\n",
    "\n",
    "```python\n",
    "{\n",
    "    'node': 'Attack',\n",
    "    'variables:' {\n",
    "        'd20': RollNode('d20'),\n",
    "        'mod': 5,\n",
    "    },\n",
    "    'results': {\n",
    "        'crit miss': [DamageNode('0', 'Slashing')],\n",
    "        'miss':      [DamageNode('0', 'Slashing')],\n",
    "        'hit':       [DamageNode('1d4 + 3', 'Slashing'), ConditionNode('Prone')],\n",
    "        'crit hit':  [DamageNode('2d4 + 3', 'Slashing'), ConditionNode('Prone')],\n",
    "    }\n",
    "}\n",
    "```"
   ]
  },
  {
   "cell_type": "markdown",
   "metadata": {
    "vscode": {
     "languageId": "plaintext"
    }
   },
   "source": [
    "### Attack with damage and condition if criteria is met\n",
    "\n",
    "> _**Bite.** Melee Attack Roll:_ +4, reach 5 ft. _Hit:_ 6 (1d8 + 2) Piercing damage. If the target is Medium or smaller, it has the Grappled condition (escape DC 12).\n",
    "\n",
    "An attack roll is made, on a hit damage is dealt and if the target qualifies a condition as well."
   ]
  },
  {
   "cell_type": "markdown",
   "metadata": {},
   "source": [
    "As a crude example (subject to change),\n",
    "\n",
    "```python\n",
    "{\n",
    "    'node': 'Attack',\n",
    "    'variables:' {\n",
    "        'd20': RollNode('d20'),\n",
    "        'mod': 4,\n",
    "    },\n",
    "    'results': {\n",
    "        'crit miss': [DamageNode('0', 'Piercing')],\n",
    "        'miss':      [DamageNode('0', 'Piercing')],\n",
    "        'hit':       [DamageNode('1d8 + 2', 'Piercing'), IfNode(\"target.size <= 'Medium'\", ConditionNode('Prone'))],\n",
    "        'crit hit':  [DamageNode('2d8 + 2', 'Piercing'), IfNode(\"target.size <= 'Medium'\", ConditionNode('Prone'))],\n",
    "    }\n",
    "}\n",
    "```"
   ]
  },
  {
   "cell_type": "markdown",
   "metadata": {},
   "source": [
    "### Save with damage\n",
    "\n",
    "> _**Trample.** Dexterity Saving Throw:_ DC 16, one creature within 5 feet that has the Prone condition. _Failure:_ 17 (2d10 + 6) Bludgeoning damage. _Success:_ Half damage.\n",
    "\n",
    "A saving throw is made, on a failure the target takes damage and on a success it takes half damage."
   ]
  },
  {
   "cell_type": "markdown",
   "metadata": {},
   "source": [
    "As a crude example (subject to change),\n",
    "\n",
    "```python\n",
    "{\n",
    "    'node': 'Save',\n",
    "    'variables:' {\n",
    "        'd20': RollNode('d20'),\n",
    "        'DC': 16,\n",
    "    },\n",
    "    'results': {\n",
    "        'failure': [DamageNode('2d10 + 6', 'Bludgeoning')],\n",
    "        'success': [DamageNode('(2d10 + 6)/2', 'Bludgeoning')],\n",
    "    }\n",
    "}\n",
    "```"
   ]
  },
  {
   "cell_type": "markdown",
   "metadata": {},
   "source": [
    "### Save with damage and condition\n",
    "\n",
    "> _**Constrict.** Strength Saving Throw:_ DC 12, one Medium or smaller creature the snake can see within 5 feet. _Failure:_ 7 (3d4) Bludgeoning damage, and the target has the Grappled condition (escape DC 12).\n",
    "\n",
    "A saving throw is made, on a failure the target takes damage and gains a condition."
   ]
  }
 ],
 "metadata": {
  "language_info": {
   "name": "python"
  }
 },
 "nbformat": 4,
 "nbformat_minor": 2
}
